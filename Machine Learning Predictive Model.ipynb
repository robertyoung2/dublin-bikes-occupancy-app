{
 "cells": [
  {
   "cell_type": "markdown",
   "metadata": {},
   "source": [
    " # Data Analysis and Predictive Model Training - OuiBikes"
   ]
  },
  {
   "cell_type": "markdown",
   "metadata": {},
   "source": [
    "The following notebook is a review of the data quality used for the training of our predictor model, as well as the steps taken to train and improve the model itself. Within our database, the important data to be processed and used is stored in two seperate tables:\n",
    "\n",
    "* dublinbikes.station_status - updated every six minutes and contains all the dynamic data for each bike station\n",
    "* dublinbikes.current_weather - updated every 30 minutes and contains all the data relating to weather in Dublin\n",
    "\n",
    "For the purpose of data processing and model training, it was agreed as a group to write a single SQL query that would load both these tables as a single dataframe for examination and manipulation. The data taken from both tables would be averaged into an hourly sample. This would simplify the process of data processing, especially with the weather and bike information recorded at different time intervals. \n",
    "\n",
    "Within this notebook, all API keys/passwords will be redacted, as the intention is to host this notebook and its code publicly on GitHub. Should a working demonstration of the data processing and model be required, please get in contact with one of the team members on the project for a demonstration."
   ]
  },
  {
   "cell_type": "markdown",
   "metadata": {},
   "source": [
    "### SQL Combined Data Query"
   ]
  },
  {
   "cell_type": "code",
   "execution_count": 86,
   "metadata": {
    "scrolled": false
   },
   "outputs": [],
   "source": [
    "# Library Imports.\n",
    "import pandas as pd\n",
    "import matplotlib.pyplot as plt\n",
    "import numpy as np\n",
    "\n",
    "# Allows plots to appear directly in the notebook.\n",
    "%matplotlib inline\n",
    "\n",
    "from patsy import dmatrices\n",
    "from sqlalchemy import create_engine\n",
    "from sklearn import metrics\n",
    "from sklearn.model_selection import TimeSeriesSplit\n",
    "from sklearn.metrics import r2_score\n",
    "from sklearn.metrics import make_scorer\n",
    "from sklearn.tree import DecisionTreeRegressor\n",
    "from sklearn.model_selection import GridSearchCV\n",
    "from sklearn.model_selection import ShuffleSplit\n",
    "import datetime\n",
    "import pickle\n",
    "import math\n",
    "from IPython.display import Image"
   ]
  },
  {
   "cell_type": "code",
   "execution_count": null,
   "metadata": {
    "scrolled": false
   },
   "outputs": [],
   "source": [
    "URI = 'REDACTED'\n",
    "DB = ***REMOVED***\n",
    "PORT = \"REDACTED\"\n",
    "USER = \"REDACTED\"\n",
    "PASSWORD = \"REDACTED\"\n",
    "\n",
    "engine = create_engine(\"mysql+pymysql://{}:{}@{}:{}/{}\".format(USER, PASSWORD, URI, PORT, DB), echo=True)\n",
    "\n",
    "def sql_query_model():\n",
    "    ''' SQL Query to retrieve bike station data and weather data from two seperate tables and combine them\n",
    "    into a single dataframe for data processing. The time sample for both data will be set to hourly using\n",
    "    the averages of the data.\n",
    "    '''\n",
    "    \n",
    "    conn = engine.connect()\n",
    "    \n",
    "    sql1 = \"\"\"SELECT number, date_format(CAST(last_update AS DATETIME), '%%Y-%%m-%%d %%H' ) as myDate, AVG(available_bike_stands) as available_bike_stands, AVG(available_bikes) as available_bikes\n",
    "            FROM station_status\n",
    "            GROUP BY number, myDate\n",
    "            ORDER BY myDate ASC;\"\"\"\n",
    "        \n",
    "    df1 = pd.read_sql_query(sql1, conn)\n",
    "    df1['myDate'] = pd.to_datetime(df1.myDate, unit='ns')\n",
    "    df1['myDate'] = df1.myDate.map(lambda x: x.replace(minute=0, second=0))\n",
    "    \n",
    "    sql2 = \"\"\"SELECT date_format(CAST(last_update AS DATETIME), '%%Y-%%m-%%d %%H' ) as myDate, main_weather, (AVG(`main.temp`) -273.15) as main_temp, AVG(rainfall_mm) as rainfall_mm, AVG(`wind.speed`) as wind_speed\n",
    "            FROM current_weather\n",
    "            GROUP BY myDate\n",
    "            ORDER BY myDate ASC;\"\"\"\n",
    "    \n",
    "    df2 = pd.read_sql_query(sql2, conn)\n",
    "    df2['myDate'] = pd.to_datetime(df2.myDate, unit='ns')\n",
    "    df2['myDate'] = df2.myDate.map(lambda x: x.replace(minute=0, second=0))\n",
    "      \n",
    "    df3 = pd.merge(df1, df2, on='myDate')\n",
    "    \n",
    "    for index, row in df3.iterrows():\n",
    "        if df3.loc[index,'myDate'].hour == 0:\n",
    "            df3.loc[index,'myDate'] = df3.loc[index,'myDate'] - datetime.timedelta(minutes=(df3.loc[index,'myDate'].minute + 1))\n",
    "            df3.loc[index,'hour'] = 24\n",
    "        else:\n",
    "            df3.loc[index,'hour'] = (df3.loc[index,'myDate'].hour)\n",
    "            \n",
    "    df3['weekday'] = df3['myDate'].dt.day_name()\n",
    "    df3.set_index('myDate', inplace=True)\n",
    "    \n",
    "    return df3"
   ]
  },
  {
   "cell_type": "code",
   "execution_count": 3,
   "metadata": {},
   "outputs": [
    {
     "name": "stdout",
     "output_type": "stream",
     "text": [
      "2019-04-19 07:27:41,356 INFO sqlalchemy.engine.base.Engine SHOW VARIABLES LIKE 'sql_mode'\n",
      "2019-04-19 07:27:41,358 INFO sqlalchemy.engine.base.Engine {}\n",
      "2019-04-19 07:27:41,470 INFO sqlalchemy.engine.base.Engine SHOW VARIABLES LIKE 'lower_case_table_names'\n",
      "2019-04-19 07:27:41,471 INFO sqlalchemy.engine.base.Engine {}\n",
      "2019-04-19 07:27:41,693 INFO sqlalchemy.engine.base.Engine SELECT DATABASE()\n",
      "2019-04-19 07:27:41,695 INFO sqlalchemy.engine.base.Engine {}\n",
      "2019-04-19 07:27:41,917 INFO sqlalchemy.engine.base.Engine show collation where `Charset` = 'utf8mb4' and `Collation` = 'utf8mb4_bin'\n",
      "2019-04-19 07:27:41,918 INFO sqlalchemy.engine.base.Engine {}\n",
      "2019-04-19 07:27:42,031 INFO sqlalchemy.engine.base.Engine SELECT CAST('test plain returns' AS CHAR(60)) AS anon_1\n",
      "2019-04-19 07:27:42,033 INFO sqlalchemy.engine.base.Engine {}\n",
      "2019-04-19 07:27:42,146 INFO sqlalchemy.engine.base.Engine SELECT CAST('test unicode returns' AS CHAR(60)) AS anon_1\n",
      "2019-04-19 07:27:42,147 INFO sqlalchemy.engine.base.Engine {}\n",
      "2019-04-19 07:27:42,259 INFO sqlalchemy.engine.base.Engine SELECT CAST('test collated returns' AS CHAR CHARACTER SET utf8mb4) COLLATE utf8mb4_bin AS anon_1\n",
      "2019-04-19 07:27:42,260 INFO sqlalchemy.engine.base.Engine {}\n",
      "2019-04-19 07:27:42,483 INFO sqlalchemy.engine.base.Engine SELECT number, date_format(CAST(last_update AS DATETIME), '%%Y-%%m-%%d %%H' ) as myDate, AVG(available_bike_stands) as available_bike_stands, AVG(available_bikes) as available_bikes\n",
      "            FROM station_status\n",
      "            GROUP BY number, myDate\n",
      "            ORDER BY myDate ASC;\n",
      "2019-04-19 07:27:42,485 INFO sqlalchemy.engine.base.Engine {}\n",
      "2019-04-19 07:27:49,651 INFO sqlalchemy.engine.base.Engine SELECT date_format(CAST(last_update AS DATETIME), '%%Y-%%m-%%d %%H' ) as myDate, main_weather, (AVG(`main.temp`) -273.15) as main_temp, AVG(rainfall_mm) as rainfall_mm, AVG(`wind.speed`) as wind_speed\n",
      "            FROM current_weather\n",
      "            GROUP BY myDate\n",
      "            ORDER BY myDate ASC;\n",
      "2019-04-19 07:27:49,652 INFO sqlalchemy.engine.base.Engine {}\n"
     ]
    }
   ],
   "source": [
    "df_db = sql_query_model()"
   ]
  },
  {
   "cell_type": "markdown",
   "metadata": {},
   "source": [
    "## Data Quality Report"
   ]
  },
  {
   "cell_type": "markdown",
   "metadata": {},
   "source": [
    "A first step for data analysis and processing is to check the quality of the data to be used. This will indentify issues such as NaN entries, outliers and the type of data to be processed (categorical or continuous). "
   ]
  },
  {
   "cell_type": "markdown",
   "metadata": {},
   "source": [
    "### - Check how many rows and columns the loaded data has"
   ]
  },
  {
   "cell_type": "code",
   "execution_count": 6,
   "metadata": {},
   "outputs": [
    {
     "data": {
      "text/plain": [
       "(127012, 9)"
      ]
     },
     "execution_count": 6,
     "metadata": {},
     "output_type": "execute_result"
    }
   ],
   "source": [
    "# Print the number of rows and columns\n",
    "df_db.shape"
   ]
  },
  {
   "cell_type": "markdown",
   "metadata": {},
   "source": [
    "A total of 127,012 rows of data are present, and there are nine columns/features contained within this dataframe."
   ]
  },
  {
   "cell_type": "markdown",
   "metadata": {},
   "source": [
    "### - Print the first and last five rows"
   ]
  },
  {
   "cell_type": "code",
   "execution_count": 8,
   "metadata": {
    "scrolled": true
   },
   "outputs": [
    {
     "data": {
      "text/html": [
       "<div>\n",
       "<style scoped>\n",
       "    .dataframe tbody tr th:only-of-type {\n",
       "        vertical-align: middle;\n",
       "    }\n",
       "\n",
       "    .dataframe tbody tr th {\n",
       "        vertical-align: top;\n",
       "    }\n",
       "\n",
       "    .dataframe thead th {\n",
       "        text-align: right;\n",
       "    }\n",
       "</style>\n",
       "<table border=\"1\" class=\"dataframe\">\n",
       "  <thead>\n",
       "    <tr style=\"text-align: right;\">\n",
       "      <th></th>\n",
       "      <th>number</th>\n",
       "      <th>available_bike_stands</th>\n",
       "      <th>available_bikes</th>\n",
       "      <th>main_weather</th>\n",
       "      <th>main_temp</th>\n",
       "      <th>rainfall_mm</th>\n",
       "      <th>wind_speed</th>\n",
       "      <th>hour</th>\n",
       "      <th>weekday</th>\n",
       "    </tr>\n",
       "    <tr>\n",
       "      <th>myDate</th>\n",
       "      <th></th>\n",
       "      <th></th>\n",
       "      <th></th>\n",
       "      <th></th>\n",
       "      <th></th>\n",
       "      <th></th>\n",
       "      <th></th>\n",
       "      <th></th>\n",
       "      <th></th>\n",
       "    </tr>\n",
       "  </thead>\n",
       "  <tbody>\n",
       "    <tr>\n",
       "      <th>2019-02-21 23:00:00</th>\n",
       "      <td>95</td>\n",
       "      <td>1.2</td>\n",
       "      <td>38.8</td>\n",
       "      <td>Clouds</td>\n",
       "      <td>11.85</td>\n",
       "      <td>0.0</td>\n",
       "      <td>3.0</td>\n",
       "      <td>23.0</td>\n",
       "      <td>Thursday</td>\n",
       "    </tr>\n",
       "    <tr>\n",
       "      <th>2019-02-21 23:00:00</th>\n",
       "      <td>96</td>\n",
       "      <td>17.0</td>\n",
       "      <td>13.0</td>\n",
       "      <td>Clouds</td>\n",
       "      <td>11.85</td>\n",
       "      <td>0.0</td>\n",
       "      <td>3.0</td>\n",
       "      <td>23.0</td>\n",
       "      <td>Thursday</td>\n",
       "    </tr>\n",
       "    <tr>\n",
       "      <th>2019-02-21 23:00:00</th>\n",
       "      <td>91</td>\n",
       "      <td>4.5</td>\n",
       "      <td>25.5</td>\n",
       "      <td>Clouds</td>\n",
       "      <td>11.85</td>\n",
       "      <td>0.0</td>\n",
       "      <td>3.0</td>\n",
       "      <td>23.0</td>\n",
       "      <td>Thursday</td>\n",
       "    </tr>\n",
       "    <tr>\n",
       "      <th>2019-02-21 23:00:00</th>\n",
       "      <td>92</td>\n",
       "      <td>9.8</td>\n",
       "      <td>30.2</td>\n",
       "      <td>Clouds</td>\n",
       "      <td>11.85</td>\n",
       "      <td>0.0</td>\n",
       "      <td>3.0</td>\n",
       "      <td>23.0</td>\n",
       "      <td>Thursday</td>\n",
       "    </tr>\n",
       "    <tr>\n",
       "      <th>2019-02-21 23:00:00</th>\n",
       "      <td>87</td>\n",
       "      <td>12.0</td>\n",
       "      <td>26.0</td>\n",
       "      <td>Clouds</td>\n",
       "      <td>11.85</td>\n",
       "      <td>0.0</td>\n",
       "      <td>3.0</td>\n",
       "      <td>23.0</td>\n",
       "      <td>Thursday</td>\n",
       "    </tr>\n",
       "  </tbody>\n",
       "</table>\n",
       "</div>"
      ],
      "text/plain": [
       "                     number  available_bike_stands  available_bikes  \\\n",
       "myDate                                                                \n",
       "2019-02-21 23:00:00      95                    1.2             38.8   \n",
       "2019-02-21 23:00:00      96                   17.0             13.0   \n",
       "2019-02-21 23:00:00      91                    4.5             25.5   \n",
       "2019-02-21 23:00:00      92                    9.8             30.2   \n",
       "2019-02-21 23:00:00      87                   12.0             26.0   \n",
       "\n",
       "                    main_weather  main_temp  rainfall_mm  wind_speed  hour  \\\n",
       "myDate                                                                       \n",
       "2019-02-21 23:00:00       Clouds      11.85          0.0         3.0  23.0   \n",
       "2019-02-21 23:00:00       Clouds      11.85          0.0         3.0  23.0   \n",
       "2019-02-21 23:00:00       Clouds      11.85          0.0         3.0  23.0   \n",
       "2019-02-21 23:00:00       Clouds      11.85          0.0         3.0  23.0   \n",
       "2019-02-21 23:00:00       Clouds      11.85          0.0         3.0  23.0   \n",
       "\n",
       "                      weekday  \n",
       "myDate                         \n",
       "2019-02-21 23:00:00  Thursday  \n",
       "2019-02-21 23:00:00  Thursday  \n",
       "2019-02-21 23:00:00  Thursday  \n",
       "2019-02-21 23:00:00  Thursday  \n",
       "2019-02-21 23:00:00  Thursday  "
      ]
     },
     "execution_count": 8,
     "metadata": {},
     "output_type": "execute_result"
    }
   ],
   "source": [
    "# Print the first five rows of data\n",
    "df_db.head(5)"
   ]
  },
  {
   "cell_type": "code",
   "execution_count": 10,
   "metadata": {},
   "outputs": [
    {
     "data": {
      "text/html": [
       "<div>\n",
       "<style scoped>\n",
       "    .dataframe tbody tr th:only-of-type {\n",
       "        vertical-align: middle;\n",
       "    }\n",
       "\n",
       "    .dataframe tbody tr th {\n",
       "        vertical-align: top;\n",
       "    }\n",
       "\n",
       "    .dataframe thead th {\n",
       "        text-align: right;\n",
       "    }\n",
       "</style>\n",
       "<table border=\"1\" class=\"dataframe\">\n",
       "  <thead>\n",
       "    <tr style=\"text-align: right;\">\n",
       "      <th></th>\n",
       "      <th>number</th>\n",
       "      <th>available_bike_stands</th>\n",
       "      <th>available_bikes</th>\n",
       "      <th>main_weather</th>\n",
       "      <th>main_temp</th>\n",
       "      <th>rainfall_mm</th>\n",
       "      <th>wind_speed</th>\n",
       "      <th>hour</th>\n",
       "      <th>weekday</th>\n",
       "    </tr>\n",
       "    <tr>\n",
       "      <th>myDate</th>\n",
       "      <th></th>\n",
       "      <th></th>\n",
       "      <th></th>\n",
       "      <th></th>\n",
       "      <th></th>\n",
       "      <th></th>\n",
       "      <th></th>\n",
       "      <th></th>\n",
       "      <th></th>\n",
       "    </tr>\n",
       "  </thead>\n",
       "  <tbody>\n",
       "    <tr>\n",
       "      <th>2019-04-19 06:00:00</th>\n",
       "      <td>95</td>\n",
       "      <td>8.8</td>\n",
       "      <td>31.2</td>\n",
       "      <td>Mist</td>\n",
       "      <td>6.08</td>\n",
       "      <td>0.0</td>\n",
       "      <td>2.6</td>\n",
       "      <td>6.0</td>\n",
       "      <td>Friday</td>\n",
       "    </tr>\n",
       "    <tr>\n",
       "      <th>2019-04-19 06:00:00</th>\n",
       "      <td>93</td>\n",
       "      <td>6.0</td>\n",
       "      <td>34.0</td>\n",
       "      <td>Mist</td>\n",
       "      <td>6.08</td>\n",
       "      <td>0.0</td>\n",
       "      <td>2.6</td>\n",
       "      <td>6.0</td>\n",
       "      <td>Friday</td>\n",
       "    </tr>\n",
       "    <tr>\n",
       "      <th>2019-04-19 06:00:00</th>\n",
       "      <td>90</td>\n",
       "      <td>33.0</td>\n",
       "      <td>7.0</td>\n",
       "      <td>Mist</td>\n",
       "      <td>6.08</td>\n",
       "      <td>0.0</td>\n",
       "      <td>2.6</td>\n",
       "      <td>6.0</td>\n",
       "      <td>Friday</td>\n",
       "    </tr>\n",
       "    <tr>\n",
       "      <th>2019-04-19 06:00:00</th>\n",
       "      <td>91</td>\n",
       "      <td>30.0</td>\n",
       "      <td>0.0</td>\n",
       "      <td>Mist</td>\n",
       "      <td>6.08</td>\n",
       "      <td>0.0</td>\n",
       "      <td>2.6</td>\n",
       "      <td>6.0</td>\n",
       "      <td>Friday</td>\n",
       "    </tr>\n",
       "    <tr>\n",
       "      <th>2019-04-19 06:00:00</th>\n",
       "      <td>89</td>\n",
       "      <td>32.6</td>\n",
       "      <td>6.4</td>\n",
       "      <td>Mist</td>\n",
       "      <td>6.08</td>\n",
       "      <td>0.0</td>\n",
       "      <td>2.6</td>\n",
       "      <td>6.0</td>\n",
       "      <td>Friday</td>\n",
       "    </tr>\n",
       "  </tbody>\n",
       "</table>\n",
       "</div>"
      ],
      "text/plain": [
       "                     number  available_bike_stands  available_bikes  \\\n",
       "myDate                                                                \n",
       "2019-04-19 06:00:00      95                    8.8             31.2   \n",
       "2019-04-19 06:00:00      93                    6.0             34.0   \n",
       "2019-04-19 06:00:00      90                   33.0              7.0   \n",
       "2019-04-19 06:00:00      91                   30.0              0.0   \n",
       "2019-04-19 06:00:00      89                   32.6              6.4   \n",
       "\n",
       "                    main_weather  main_temp  rainfall_mm  wind_speed  hour  \\\n",
       "myDate                                                                       \n",
       "2019-04-19 06:00:00         Mist       6.08          0.0         2.6   6.0   \n",
       "2019-04-19 06:00:00         Mist       6.08          0.0         2.6   6.0   \n",
       "2019-04-19 06:00:00         Mist       6.08          0.0         2.6   6.0   \n",
       "2019-04-19 06:00:00         Mist       6.08          0.0         2.6   6.0   \n",
       "2019-04-19 06:00:00         Mist       6.08          0.0         2.6   6.0   \n",
       "\n",
       "                    weekday  \n",
       "myDate                       \n",
       "2019-04-19 06:00:00  Friday  \n",
       "2019-04-19 06:00:00  Friday  \n",
       "2019-04-19 06:00:00  Friday  \n",
       "2019-04-19 06:00:00  Friday  \n",
       "2019-04-19 06:00:00  Friday  "
      ]
     },
     "execution_count": 10,
     "metadata": {},
     "output_type": "execute_result"
    }
   ],
   "source": [
    "# Print the last five rows of data\n",
    "df_db.tail(5)"
   ]
  },
  {
   "cell_type": "markdown",
   "metadata": {},
   "source": [
    "### Converting features to their appropriate data types (which features are more appropriate as continuous features, which are more appropriate as categorical features)"
   ]
  },
  {
   "cell_type": "code",
   "execution_count": 11,
   "metadata": {},
   "outputs": [
    {
     "data": {
      "text/plain": [
       "number                     int64\n",
       "available_bike_stands    float64\n",
       "available_bikes          float64\n",
       "main_weather              object\n",
       "main_temp                float64\n",
       "rainfall_mm              float64\n",
       "wind_speed               float64\n",
       "hour                     float64\n",
       "weekday                   object\n",
       "dtype: object"
      ]
     },
     "execution_count": 11,
     "metadata": {},
     "output_type": "execute_result"
    }
   ],
   "source": [
    "# Check each features current data type \n",
    "df_db.dtypes"
   ]
  },
  {
   "cell_type": "markdown",
   "metadata": {},
   "source": [
    "As it stands currently, all objects in our dataframe should be converted to categories. It is also important to note for the purpose of our modelling that the index is a datetime stamp. This will become important when we performa further sampling operations, as we are working with time series data. For the model training and cross validation, we must respect data entries and their chronological order. No training data should come *after* any of our testing or validation data. This would not make sense, as bike availability rises and falls based on the cycle of the working day. For example, I would expect less bikes available during the morning and evening on a work day, as this is rush hour. I might also expect a slight decline during lunch time, as people look to get places quickly for lunch."
   ]
  },
  {
   "cell_type": "code",
   "execution_count": 31,
   "metadata": {},
   "outputs": [],
   "source": [
    "# Select columns containing the aforementioned to be converted to categorical data type\n",
    "categorical_columns = df_db[['main_weather', 'weekday']].columns\n",
    "\n",
    "# For each data type in the list, convert it to categorical data\n",
    "for column in categorical_columns:\n",
    "    df_db[column] = df_db[column].astype('category')"
   ]
  },
  {
   "cell_type": "code",
   "execution_count": 32,
   "metadata": {},
   "outputs": [
    {
     "data": {
      "text/plain": [
       "number                      int64\n",
       "available_bike_stands     float64\n",
       "available_bikes           float64\n",
       "main_weather             category\n",
       "main_temp                 float64\n",
       "rainfall_mm               float64\n",
       "wind_speed                float64\n",
       "hour                      float64\n",
       "weekday                  category\n",
       "dtype: object"
      ]
     },
     "execution_count": 32,
     "metadata": {},
     "output_type": "execute_result"
    }
   ],
   "source": [
    "# Check desired data types have been correctly converted\n",
    "df_db.dtypes"
   ]
  },
  {
   "cell_type": "markdown",
   "metadata": {},
   "source": [
    "### - Drop duplicate rows and columns, if any present"
   ]
  },
  {
   "cell_type": "code",
   "execution_count": 34,
   "metadata": {},
   "outputs": [
    {
     "name": "stdout",
     "output_type": "stream",
     "text": [
      "Duplicate rows: 0\n",
      "Duplicate columns: 0\n"
     ]
    }
   ],
   "source": [
    "# Duplicate row check\n",
    "print('Duplicate rows:', df_db.duplicated()[df_db.duplicated() == True].shape[0])\n",
    "\n",
    "# Duplicate column check\n",
    "print('Duplicate columns:', df_db.columns.size - df_db.columns.unique().size)"
   ]
  },
  {
   "cell_type": "markdown",
   "metadata": {},
   "source": [
    "No duplicate rows or columns are present. This means that our data scraping process is robust, and also our merging of data by hour sample using the SQL query presented no issues. "
   ]
  },
  {
   "cell_type": "markdown",
   "metadata": {},
   "source": [
    "### - Drop constant columns, if any"
   ]
  },
  {
   "cell_type": "code",
   "execution_count": 43,
   "metadata": {},
   "outputs": [],
   "source": [
    "# Select columns containing continuous data\n",
    "continuous_columns = df_db.select_dtypes(include=['float64']).columns"
   ]
  },
  {
   "cell_type": "code",
   "execution_count": 44,
   "metadata": {},
   "outputs": [
    {
     "data": {
      "text/html": [
       "<div>\n",
       "<style scoped>\n",
       "    .dataframe tbody tr th:only-of-type {\n",
       "        vertical-align: middle;\n",
       "    }\n",
       "\n",
       "    .dataframe tbody tr th {\n",
       "        vertical-align: top;\n",
       "    }\n",
       "\n",
       "    .dataframe thead th {\n",
       "        text-align: right;\n",
       "    }\n",
       "</style>\n",
       "<table border=\"1\" class=\"dataframe\">\n",
       "  <thead>\n",
       "    <tr style=\"text-align: right;\">\n",
       "      <th></th>\n",
       "      <th>count</th>\n",
       "      <th>mean</th>\n",
       "      <th>std</th>\n",
       "      <th>min</th>\n",
       "      <th>25%</th>\n",
       "      <th>50%</th>\n",
       "      <th>75%</th>\n",
       "      <th>max</th>\n",
       "    </tr>\n",
       "  </thead>\n",
       "  <tbody>\n",
       "    <tr>\n",
       "      <th>available_bike_stands</th>\n",
       "      <td>127012.0</td>\n",
       "      <td>21.080381</td>\n",
       "      <td>11.634433</td>\n",
       "      <td>0.0</td>\n",
       "      <td>12.33330</td>\n",
       "      <td>20.5000</td>\n",
       "      <td>29.9000</td>\n",
       "      <td>41.000</td>\n",
       "    </tr>\n",
       "    <tr>\n",
       "      <th>available_bikes</th>\n",
       "      <td>127012.0</td>\n",
       "      <td>10.703650</td>\n",
       "      <td>10.576528</td>\n",
       "      <td>0.0</td>\n",
       "      <td>1.50000</td>\n",
       "      <td>7.1000</td>\n",
       "      <td>17.8000</td>\n",
       "      <td>40.000</td>\n",
       "    </tr>\n",
       "    <tr>\n",
       "      <th>main_temp</th>\n",
       "      <td>127012.0</td>\n",
       "      <td>7.612343</td>\n",
       "      <td>3.103932</td>\n",
       "      <td>0.1</td>\n",
       "      <td>5.56375</td>\n",
       "      <td>7.5125</td>\n",
       "      <td>9.7275</td>\n",
       "      <td>16.455</td>\n",
       "    </tr>\n",
       "    <tr>\n",
       "      <th>rainfall_mm</th>\n",
       "      <td>127012.0</td>\n",
       "      <td>0.098482</td>\n",
       "      <td>0.351068</td>\n",
       "      <td>0.0</td>\n",
       "      <td>0.00000</td>\n",
       "      <td>0.0000</td>\n",
       "      <td>0.0100</td>\n",
       "      <td>3.300</td>\n",
       "    </tr>\n",
       "    <tr>\n",
       "      <th>wind_speed</th>\n",
       "      <td>127012.0</td>\n",
       "      <td>5.423212</td>\n",
       "      <td>2.876910</td>\n",
       "      <td>0.5</td>\n",
       "      <td>3.35000</td>\n",
       "      <td>4.8500</td>\n",
       "      <td>7.2000</td>\n",
       "      <td>15.650</td>\n",
       "    </tr>\n",
       "    <tr>\n",
       "      <th>hour</th>\n",
       "      <td>127012.0</td>\n",
       "      <td>14.500000</td>\n",
       "      <td>5.781097</td>\n",
       "      <td>5.0</td>\n",
       "      <td>9.00000</td>\n",
       "      <td>14.5000</td>\n",
       "      <td>20.0000</td>\n",
       "      <td>24.000</td>\n",
       "    </tr>\n",
       "  </tbody>\n",
       "</table>\n",
       "</div>"
      ],
      "text/plain": [
       "                          count       mean        std  min       25%      50%  \\\n",
       "available_bike_stands  127012.0  21.080381  11.634433  0.0  12.33330  20.5000   \n",
       "available_bikes        127012.0  10.703650  10.576528  0.0   1.50000   7.1000   \n",
       "main_temp              127012.0   7.612343   3.103932  0.1   5.56375   7.5125   \n",
       "rainfall_mm            127012.0   0.098482   0.351068  0.0   0.00000   0.0000   \n",
       "wind_speed             127012.0   5.423212   2.876910  0.5   3.35000   4.8500   \n",
       "hour                   127012.0  14.500000   5.781097  5.0   9.00000  14.5000   \n",
       "\n",
       "                           75%     max  \n",
       "available_bike_stands  29.9000  41.000  \n",
       "available_bikes        17.8000  40.000  \n",
       "main_temp               9.7275  16.455  \n",
       "rainfall_mm             0.0100   3.300  \n",
       "wind_speed              7.2000  15.650  \n",
       "hour                   20.0000  24.000  "
      ]
     },
     "execution_count": 44,
     "metadata": {},
     "output_type": "execute_result"
    }
   ],
   "source": [
    "# Print table\n",
    "df_db[continuous_columns].describe().T"
   ]
  },
  {
   "cell_type": "markdown",
   "metadata": {},
   "source": [
    "As no features standard deviation = 0, we none of the continuous features present in the data are constant. We can also check this is the case for the bike station number, which is of type int64."
   ]
  },
  {
   "cell_type": "code",
   "execution_count": 37,
   "metadata": {},
   "outputs": [],
   "source": [
    "# Select columns containing continuous data\n",
    "continuous_columns = df_db.select_dtypes(include=['int64']).columns"
   ]
  },
  {
   "cell_type": "code",
   "execution_count": 38,
   "metadata": {
    "scrolled": true
   },
   "outputs": [
    {
     "data": {
      "text/html": [
       "<div>\n",
       "<style scoped>\n",
       "    .dataframe tbody tr th:only-of-type {\n",
       "        vertical-align: middle;\n",
       "    }\n",
       "\n",
       "    .dataframe tbody tr th {\n",
       "        vertical-align: top;\n",
       "    }\n",
       "\n",
       "    .dataframe thead th {\n",
       "        text-align: right;\n",
       "    }\n",
       "</style>\n",
       "<table border=\"1\" class=\"dataframe\">\n",
       "  <thead>\n",
       "    <tr style=\"text-align: right;\">\n",
       "      <th></th>\n",
       "      <th>count</th>\n",
       "      <th>mean</th>\n",
       "      <th>std</th>\n",
       "      <th>min</th>\n",
       "      <th>25%</th>\n",
       "      <th>50%</th>\n",
       "      <th>75%</th>\n",
       "      <th>max</th>\n",
       "    </tr>\n",
       "  </thead>\n",
       "  <tbody>\n",
       "    <tr>\n",
       "      <th>number</th>\n",
       "      <td>127012.0</td>\n",
       "      <td>58.840708</td>\n",
       "      <td>32.852323</td>\n",
       "      <td>2.0</td>\n",
       "      <td>31.0</td>\n",
       "      <td>59.0</td>\n",
       "      <td>87.0</td>\n",
       "      <td>115.0</td>\n",
       "    </tr>\n",
       "  </tbody>\n",
       "</table>\n",
       "</div>"
      ],
      "text/plain": [
       "           count       mean        std  min   25%   50%   75%    max\n",
       "number  127012.0  58.840708  32.852323  2.0  31.0  59.0  87.0  115.0"
      ]
     },
     "execution_count": 38,
     "metadata": {},
     "output_type": "execute_result"
    }
   ],
   "source": [
    "# Print table\n",
    "df_db[continuous_columns].describe().T"
   ]
  },
  {
   "cell_type": "markdown",
   "metadata": {},
   "source": [
    "This feature also has a standard deviation greater than 0, so it is a non-constant feature."
   ]
  },
  {
   "cell_type": "markdown",
   "metadata": {},
   "source": [
    "### - Table with descriptive statistics for all the continuous features"
   ]
  },
  {
   "cell_type": "code",
   "execution_count": 39,
   "metadata": {},
   "outputs": [
    {
     "data": {
      "text/html": [
       "<div>\n",
       "<style scoped>\n",
       "    .dataframe tbody tr th:only-of-type {\n",
       "        vertical-align: middle;\n",
       "    }\n",
       "\n",
       "    .dataframe tbody tr th {\n",
       "        vertical-align: top;\n",
       "    }\n",
       "\n",
       "    .dataframe thead th {\n",
       "        text-align: right;\n",
       "    }\n",
       "</style>\n",
       "<table border=\"1\" class=\"dataframe\">\n",
       "  <thead>\n",
       "    <tr style=\"text-align: right;\">\n",
       "      <th></th>\n",
       "      <th>count</th>\n",
       "      <th>mean</th>\n",
       "      <th>std</th>\n",
       "      <th>min</th>\n",
       "      <th>25%</th>\n",
       "      <th>50%</th>\n",
       "      <th>75%</th>\n",
       "      <th>max</th>\n",
       "    </tr>\n",
       "  </thead>\n",
       "  <tbody>\n",
       "    <tr>\n",
       "      <th>available_bike_stands</th>\n",
       "      <td>127012.0</td>\n",
       "      <td>21.080381</td>\n",
       "      <td>11.634433</td>\n",
       "      <td>0.0</td>\n",
       "      <td>12.33330</td>\n",
       "      <td>20.5000</td>\n",
       "      <td>29.9000</td>\n",
       "      <td>41.000</td>\n",
       "    </tr>\n",
       "    <tr>\n",
       "      <th>available_bikes</th>\n",
       "      <td>127012.0</td>\n",
       "      <td>10.703650</td>\n",
       "      <td>10.576528</td>\n",
       "      <td>0.0</td>\n",
       "      <td>1.50000</td>\n",
       "      <td>7.1000</td>\n",
       "      <td>17.8000</td>\n",
       "      <td>40.000</td>\n",
       "    </tr>\n",
       "    <tr>\n",
       "      <th>main_temp</th>\n",
       "      <td>127012.0</td>\n",
       "      <td>7.612343</td>\n",
       "      <td>3.103932</td>\n",
       "      <td>0.1</td>\n",
       "      <td>5.56375</td>\n",
       "      <td>7.5125</td>\n",
       "      <td>9.7275</td>\n",
       "      <td>16.455</td>\n",
       "    </tr>\n",
       "    <tr>\n",
       "      <th>rainfall_mm</th>\n",
       "      <td>127012.0</td>\n",
       "      <td>0.098482</td>\n",
       "      <td>0.351068</td>\n",
       "      <td>0.0</td>\n",
       "      <td>0.00000</td>\n",
       "      <td>0.0000</td>\n",
       "      <td>0.0100</td>\n",
       "      <td>3.300</td>\n",
       "    </tr>\n",
       "    <tr>\n",
       "      <th>wind_speed</th>\n",
       "      <td>127012.0</td>\n",
       "      <td>5.423212</td>\n",
       "      <td>2.876910</td>\n",
       "      <td>0.5</td>\n",
       "      <td>3.35000</td>\n",
       "      <td>4.8500</td>\n",
       "      <td>7.2000</td>\n",
       "      <td>15.650</td>\n",
       "    </tr>\n",
       "    <tr>\n",
       "      <th>hour</th>\n",
       "      <td>127012.0</td>\n",
       "      <td>14.500000</td>\n",
       "      <td>5.781097</td>\n",
       "      <td>5.0</td>\n",
       "      <td>9.00000</td>\n",
       "      <td>14.5000</td>\n",
       "      <td>20.0000</td>\n",
       "      <td>24.000</td>\n",
       "    </tr>\n",
       "  </tbody>\n",
       "</table>\n",
       "</div>"
      ],
      "text/plain": [
       "                          count       mean        std  min       25%      50%  \\\n",
       "available_bike_stands  127012.0  21.080381  11.634433  0.0  12.33330  20.5000   \n",
       "available_bikes        127012.0  10.703650  10.576528  0.0   1.50000   7.1000   \n",
       "main_temp              127012.0   7.612343   3.103932  0.1   5.56375   7.5125   \n",
       "rainfall_mm            127012.0   0.098482   0.351068  0.0   0.00000   0.0000   \n",
       "wind_speed             127012.0   5.423212   2.876910  0.5   3.35000   4.8500   \n",
       "hour                   127012.0  14.500000   5.781097  5.0   9.00000  14.5000   \n",
       "\n",
       "                           75%     max  \n",
       "available_bike_stands  29.9000  41.000  \n",
       "available_bikes        17.8000  40.000  \n",
       "main_temp               9.7275  16.455  \n",
       "rainfall_mm             0.0100   3.300  \n",
       "wind_speed              7.2000  15.650  \n",
       "hour                   20.0000  24.000  "
      ]
     },
     "execution_count": 39,
     "metadata": {},
     "output_type": "execute_result"
    }
   ],
   "source": [
    "# Display a table with descriptive statistics for all the continuous features\n",
    "# Bike Station number will be excluded from this analysis as it has little useful information\n",
    "df_db.select_dtypes(['float64']).describe().T"
   ]
  },
  {
   "cell_type": "markdown",
   "metadata": {},
   "source": [
    "All of these values look reasonable and valid. The most important value to note is the feature 'hour'. This is a continous feature representing the hour of the day that will be passed to the model for training and eventually prediction. The hour ranges from a min of 5 up to a maximum of 24. This is as between the hours of 01:00 and 05:00 no bike station information is being transmitted by the API. So here, the important takeaway for our time series validation is that a day, which is one sample or split in time series cross validation is taken to be **20 hours long**."
   ]
  },
  {
   "cell_type": "markdown",
   "metadata": {},
   "source": [
    "### - Table with descriptive statistics for all categorical features"
   ]
  },
  {
   "cell_type": "code",
   "execution_count": 41,
   "metadata": {},
   "outputs": [
    {
     "data": {
      "text/html": [
       "<div>\n",
       "<style scoped>\n",
       "    .dataframe tbody tr th:only-of-type {\n",
       "        vertical-align: middle;\n",
       "    }\n",
       "\n",
       "    .dataframe tbody tr th {\n",
       "        vertical-align: top;\n",
       "    }\n",
       "\n",
       "    .dataframe thead th {\n",
       "        text-align: right;\n",
       "    }\n",
       "</style>\n",
       "<table border=\"1\" class=\"dataframe\">\n",
       "  <thead>\n",
       "    <tr style=\"text-align: right;\">\n",
       "      <th></th>\n",
       "      <th>count</th>\n",
       "      <th>unique</th>\n",
       "      <th>top</th>\n",
       "      <th>freq</th>\n",
       "    </tr>\n",
       "  </thead>\n",
       "  <tbody>\n",
       "    <tr>\n",
       "      <th>main_weather</th>\n",
       "      <td>127012</td>\n",
       "      <td>8</td>\n",
       "      <td>Clouds</td>\n",
       "      <td>69608</td>\n",
       "    </tr>\n",
       "    <tr>\n",
       "      <th>weekday</th>\n",
       "      <td>127012</td>\n",
       "      <td>7</td>\n",
       "      <td>Thursday</td>\n",
       "      <td>18306</td>\n",
       "    </tr>\n",
       "  </tbody>\n",
       "</table>\n",
       "</div>"
      ],
      "text/plain": [
       "               count unique       top   freq\n",
       "main_weather  127012      8    Clouds  69608\n",
       "weekday       127012      7  Thursday  18306"
      ]
     },
     "execution_count": 41,
     "metadata": {},
     "output_type": "execute_result"
    }
   ],
   "source": [
    "# Display a table with descriptive statistics for all the categorical features\n",
    "df_db.select_dtypes(['category']).describe().T"
   ]
  },
  {
   "cell_type": "markdown",
   "metadata": {},
   "source": [
    "Our database has recorded 8 unique weather types, and a total of 7 days in a week (reassuring). With respect to weather, it should be noted that 8 is not an exhaustive list of all the types of weather that may be reported by Open Weather Map API. In fact, 14 different types of weather conditions may be report, as can be seen on the documentation page [here](https://openweathermap.org/weather-conditions). When training our model, we should keep this in mind be creating these features that is has not yet seen. This means in future, should this occur, it will not throw our model inputs n, and will allow it to continue to train and create pickle files robustly."
   ]
  },
  {
   "cell_type": "markdown",
   "metadata": {},
   "source": [
    "### - Plot Histograms for all the continuous features"
   ]
  },
  {
   "cell_type": "code",
   "execution_count": 45,
   "metadata": {},
   "outputs": [
    {
     "data": {
      "image/png": "[encoded data removed]",
      "text/plain": [
       "<Figure size 1800x1800 with 6 Axes>"
      ]
     },
     "metadata": {
      "needs_background": "light"
     },
     "output_type": "display_data"
    }
   ],
   "source": [
    "# Histogram plotting of all the continous features \n",
    "# Assigned to variable to suppress matlibplot messages\n",
    "continous_hist_plot = df_db[continuous_columns].hist(figsize=(25,25))"
   ]
  },
  {
   "cell_type": "markdown",
   "metadata": {},
   "source": [
    "**Points to note from continuous charts**\n",
    "\n",
    "* available_bike_stands is a uniform distribution\n",
    "* available_bikes and rainfall_mm look closest to an exponential shape\n",
    "* main_temp is a normal distribution\n",
    "* wind_speed looks to be a righ skewed unimodel distribution"
   ]
  },
  {
   "cell_type": "markdown",
   "metadata": {},
   "source": [
    "### - Plot bar plots for all the categorical features"
   ]
  },
  {
   "cell_type": "code",
   "execution_count": 46,
   "metadata": {},
   "outputs": [
    {
     "data": {
      "image/png": "[encoded data removed]",
      "text/plain": [
       "<Figure size 720x432 with 1 Axes>"
      ]
     },
     "metadata": {
      "needs_background": "light"
     },
     "output_type": "display_data"
    },
    {
     "data": {
      "image/png": "[encoded data removed]",
      "text/plain": [
       "<Figure size 720x432 with 1 Axes>"
      ]
     },
     "metadata": {
      "needs_background": "light"
     },
     "output_type": "display_data"
    }
   ],
   "source": [
    "for column in categorical_columns:\n",
    "    f = df_db[column].value_counts().plot(kind='bar', title=column,figsize=(10,6))\n",
    "    plt.show()"
   ]
  },
  {
   "cell_type": "markdown",
   "metadata": {},
   "source": [
    "**Points to note from categorical charts**\n",
    "* Clouds is the most common weather, followed by rain\n",
    "* Days of the week are distributed close to evenly. This would depend on the way of the week the datacraping started on, and what it is currently on since the latest data pull."
   ]
  },
  {
   "cell_type": "markdown",
   "metadata": {},
   "source": [
    "### Check for null values"
   ]
  },
  {
   "cell_type": "code",
   "execution_count": 47,
   "metadata": {},
   "outputs": [
    {
     "data": {
      "text/plain": [
       "number                   0\n",
       "available_bike_stands    0\n",
       "available_bikes          0\n",
       "main_weather             0\n",
       "main_temp                0\n",
       "rainfall_mm              0\n",
       "wind_speed               0\n",
       "hour                     0\n",
       "weekday                  0\n",
       "dtype: int64"
      ]
     },
     "execution_count": 47,
     "metadata": {},
     "output_type": "execute_result"
    }
   ],
   "source": [
    "# Check if any null values are present in the dataframe\n",
    "df_db.isnull().sum()"
   ]
  },
  {
   "cell_type": "markdown",
   "metadata": {},
   "source": [
    "This is good news, we have no missing data/null values present in our data. Overall I am pleased with the quality of our data, and will now begin the process of model creation. The next step is check how our data looks. This is important with respect to linear or non-linear relationships, and what model is best suited for training on this data."
   ]
  },
  {
   "cell_type": "markdown",
   "metadata": {},
   "source": [
    "### - Exploring data relationships"
   ]
  },
  {
   "cell_type": "markdown",
   "metadata": {},
   "source": [
    "For data exploration, I have chosen to random stations on two random days to get an idea of how the shape of the relationship may look for bikes based on time of the day. I previously attempted to plot all the days and stations, but due to the volume, this produced meaningless charts. As such two scenarios will be investigated:\n",
    "* Station 2 on a Wednesday\n",
    "* Station 100 on a Saturday"
   ]
  },
  {
   "cell_type": "code",
   "execution_count": 76,
   "metadata": {},
   "outputs": [],
   "source": [
    "# Create new dataframe \n",
    "wednesday_2 = df_db[df_db['weekday'] == 'Wednesday']\n",
    "wednesday_2 = wednesday_2[wednesday_2['number'] == 2]\n",
    "\n",
    "# Resample each time to the hour, and set values to be the average of that hour\n",
    "wednesday_2 = wednesday_2.resample('H').mean()\n",
    "\n",
    "# Drop NAN rows (which in this case are the hours between 01:00 and 05:00)\n",
    "wednesday_2 = wednesday_2.dropna()"
   ]
  },
  {
   "cell_type": "code",
   "execution_count": 77,
   "metadata": {},
   "outputs": [
    {
     "data": {
      "text/plain": [
       "<matplotlib.axes._subplots.AxesSubplot at 0x1a26e39f28>"
      ]
     },
     "execution_count": 77,
     "metadata": {},
     "output_type": "execute_result"
    },
    {
     "data": {
      "image/png": "[encoded data removed]",
      "text/plain": [
       "<Figure size 432x288 with 1 Axes>"
      ]
     },
     "metadata": {},
     "output_type": "display_data"
    }
   ],
   "source": [
    "# Nicer plots\n",
    "plt.style.use('ggplot')\n",
    "\n",
    "# Scatter plot the features which displayed a high correlation from above\n",
    "\n",
    "wednesday_2.plot(kind='scatter', x='hour', y='available_bikes')"
   ]
  },
  {
   "cell_type": "code",
   "execution_count": 87,
   "metadata": {
    "scrolled": false
   },
   "outputs": [
    {
     "data": {
      "image/png": "[encoded data removed]",
      "text/plain": [
       "<IPython.core.display.Image object>"
      ]
     },
     "execution_count": 87,
     "metadata": {},
     "output_type": "execute_result"
    }
   ],
   "source": [
    "# Display image with trend line\n",
    "Image(\"image_1.png\")"
   ]
  },
  {
   "cell_type": "markdown",
   "metadata": {},
   "source": [
    "As may be seen in the above graph the data is not linear It roughly follows the pattern I would expect, that is from about 7am to 4pm, bike availability is low, due to workers commuting. As workers return home, we can see bike availability gradually increasing again."
   ]
  },
  {
   "cell_type": "code",
   "execution_count": 78,
   "metadata": {},
   "outputs": [],
   "source": [
    "# Create new dataframe \n",
    "saturday_100 = df_db[df_db['weekday'] == 'Saturday']\n",
    "saturday_100 = saturday_100[saturday_100['number'] == 100]\n",
    "\n",
    "# Resample each time to the hour, and set values to be the average of that hour\n",
    "saturday_100 = saturday_100.resample('H').mean()\n",
    "\n",
    "# Drop NAN rows (which in this case are the hours between 01:00 and 05:00)\n",
    "saturday_100 = saturday_100.dropna()"
   ]
  },
  {
   "cell_type": "code",
   "execution_count": 79,
   "metadata": {
    "scrolled": true
   },
   "outputs": [
    {
     "data": {
      "text/plain": [
       "<matplotlib.axes._subplots.AxesSubplot at 0x1a26f01c88>"
      ]
     },
     "execution_count": 79,
     "metadata": {},
     "output_type": "execute_result"
    },
    {
     "data": {
      "image/png": "[encoded data removed]",
      "text/plain": [
       "<Figure size 432x288 with 1 Axes>"
      ]
     },
     "metadata": {},
     "output_type": "display_data"
    }
   ],
   "source": [
    "# Nicer plots\n",
    "plt.style.use('ggplot')\n",
    "\n",
    "# Scatter plot the features which displayed a high correlation from above\n",
    "\n",
    "saturday_100.plot(kind='scatter', x='hour', y='available_bikes')"
   ]
  },
  {
   "cell_type": "code",
   "execution_count": 88,
   "metadata": {},
   "outputs": [
    {
     "data": {
      "image/png": "[encoded data removed]",
      "text/plain": [
       "<IPython.core.display.Image object>"
      ]
     },
     "execution_count": 88,
     "metadata": {},
     "output_type": "execute_result"
    }
   ],
   "source": [
    "# Display image with trend line\n",
    "Image(\"image_2.png\")"
   ]
  },
  {
   "cell_type": "markdown",
   "metadata": {},
   "source": [
    "Again, the graphy above for bike availability on a weekend is non-linear. We can see mostly on weekends there is high bike availability, with slight drop offs early in the morning and late in the evening/night. I would hazard a guess that the largest drop off in availability in the evening is due to people leaving bars and clubs and looking for a quick and cheap means to get back home."
   ]
  },
  {
   "cell_type": "markdown",
   "metadata": {},
   "source": [
    "## Predictor Model Design"
   ]
  },
  {
   "cell_type": "markdown",
   "metadata": {},
   "source": [
    "It is now time to design and develop the predictor model to be used for the creation of our pickle model files. As the data is of a non-linear time, a decision tree regressor was chosen due to it's ability to fit polynomial shapes well. Within this regression model, parameter tuning would be controlled by using grid search and time series cross validation. Grid search is an approach to hyperparameter tuning. It methodically builds an evaluates a model for each combination of alogorithm parameters specified in a grid. For our model, we are going to specify a max depth range of 1 -> 11, our performance metric will be the r2 score, and our validation will be assessed used time series split with cross validation.\n",
    "\n",
    "Each model trained model which is outputted as a pickle file will be unique to a given bike station on a given day of the week. This is for the following reasons:\n",
    "\n",
    "* There will be a large variance of bike usage depending on the day of the week (working days versus weekend)\n",
    "* There will be a significant difference in bike turnover depending on if the station is located in the city centre, or on the fringes of the city.\n",
    "\n",
    "For model training, the key inputs for the model (once seperated out by day of the week and station number) are as follows:\n",
    "\n",
    "* Hour of the day \n",
    "* Main weather conditions (broken down as binary categorical values)\n",
    "* Main temperature degrees C\n",
    "* Rainfall in mm\n",
    "\n",
    "The target value is:\n",
    "\n",
    "* Bikes available\n",
    "\n",
    "In total there will 791 different pickle models generated. "
   ]
  },
  {
   "cell_type": "code",
   "execution_count": 90,
   "metadata": {
    "scrolled": true
   },
   "outputs": [],
   "source": [
    "# Scoring function for models\n",
    "def performance_metric(y_true, y_predict):\n",
    "    \"\"\" Calculates and returns the performance score between \n",
    "        true and predicted values based on the metric chosen. \"\"\"\n",
    "       \n",
    "    score = r2_score(y_true, y_predict)\n",
    "    # Return the score\n",
    "    return score"
   ]
  },
  {
   "cell_type": "markdown",
   "metadata": {},
   "source": [
    "*fit_model* is where the model fitment occurs. All the data is broken into splits of 20. As previously mentioned, each day will be 20 hours in length in our dataset, so this is how we decide our splits. The regressor will be a decision tree regression model, and it will be allowed to train on a max depth ranging from 1 -> 11. We will score the model using the r2 value, and gridsearch will be used in conjunction with cross validation to generate the model with the best hyperparameters. \n",
    "\n",
    "To automate the process in future, a *models_Score_dict* text file has been created. This keeps the score of each model in a text file. Our deployment of the predictor_model.py file on EC2 works as follows:\n",
    "\n",
    "* Crontab is scheduled to run the predictor_model once a week at 3am on a Monday. This is so that we have new day data for each day of the week.\n",
    "* The model will run and generate a best score for the fitted model. It will then look up the previous best score for this model in the dictionary text file. If the new best score is worse than the previous best score, it will move on to the next model. If the new best score is better, it will overwrite the previous model, and update the dictionary with the new best score.\n",
    "\n",
    "In this way we have automated the model training process and ensured the best model is the one that is stored on EC2.\n",
    "\n",
    "One important point to note regarding our models is there are some prediction discrepancies, as visible in some of the recorded best scores. This is happening for several reasons:\n",
    "\n",
    "* Decision tree regressors can be prone to overfitment. \n",
    "* Overfitment is happening mostly due to our small data set size. While we have a lot of rows of data, when you consider how many actual days this is (for our time series split samples) we in fact only have 8-9 days worth of data for each day of the week. This is small, and will cause overfitment.\n",
    "* We do no currently have data that covers a wide spectrum of the weather. This means that as it gets warmer, the model is seeing weather it has not got much learning on, and is failing to generalise well.\n",
    "\n",
    "All this issues should gradually reduce as the model continues to train on new data each week over the course of the year. This will help it generalise a lot better."
   ]
  },
  {
   "cell_type": "code",
   "execution_count": null,
   "metadata": {
    "scrolled": true
   },
   "outputs": [],
   "source": [
    "def fit_model(X,y):\n",
    "    \n",
    "    n_splits = int(len(X)/20)\n",
    "    \n",
    "    cv_sets = TimeSeriesSplit(n_splits)\n",
    "\n",
    "    regressor = DecisionTreeRegressor()\n",
    "    \n",
    "    params = {'max_depth': range(1,11)}\n",
    "    \n",
    "    scoring_fnc = make_scorer(performance_metric)\n",
    "    \n",
    "    grid = GridSearchCV(regressor, params, scoring = scoring_fnc, cv = cv_sets)\n",
    "    \n",
    "    grid = grid.fit(X, y)\n",
    "    \n",
    "    if key_name not in models_score_dict or models_score_dict[key_name] < best_score:\n",
    "        models_score_dict[key_name] = best_score\n",
    "        f = open('/home/ubuntu/oui-team/pickle_files/models_score_dict.txt', \"w\")\n",
    "        f.write(str(models_score_dict))\n",
    "        f.close()\n",
    "        return grid.best_estimator_\n",
    "\n",
    "    return grid.best_estimator_"
   ]
  },
  {
   "cell_type": "markdown",
   "metadata": {},
   "source": [
    "A key point to note in the below function, *station_day_model*, is that is only uses whole days for its training. It will remove every row of data from the dataframe that does not finish on midnight for that day."
   ]
  },
  {
   "cell_type": "code",
   "execution_count": null,
   "metadata": {},
   "outputs": [],
   "source": [
    "def station_day_model(station_number, day_week, df_current, features):\n",
    "    \"\"\" Function that creates a data frame for the given week day and station number. Ensures Whole days\n",
    "    only are included in the data frame. Creates the file name for the pickle model. Checks the previous\n",
    "    model best score versus the current model best score. If higher, updates the pickel model.\n",
    "\n",
    "    :param station_number: current station number\n",
    "    :param day_week: current day of the week\n",
    "    :param df_current: data frame for model work\n",
    "    :param features: list of features to be used for model\n",
    "    :return: Void. Updates pickle models.\n",
    "    \"\"\"\n",
    "\n",
    "    df_current = df_current[df_current['weekday'] == day_week]\n",
    "    df_current = df_current[df_current['number'] == station_number]\n",
    "\n",
    "    break_case = datetime.time(23, 59, 0)\n",
    "    df_temp = df_current\n",
    "\n",
    "    for index, row in df_current[::-1].iterrows():\n",
    "        if index.time() == break_case:\n",
    "            break\n",
    "        else:\n",
    "            df_temp = df_temp.drop(index)\n",
    "\n",
    "    df_current = df_temp\n",
    "    X = df_current[features]\n",
    "    y = df_current.available_bikes\n",
    "\n",
    "    file_name = \"model_\" + str(station_number) + \"_\" + day_week + \".pkl\"\n",
    "    key_name = file_name[:-4]\n",
    "\n",
    "    f = open('/home/ubuntu/oui-team/pickle_files/models_score_dict.txt', \"r\")\n",
    "    models_score_dict = f.read()\n",
    "    models_score_dict = ast.literal_eval(models_score_dict)\n",
    "    f.close()\n",
    "\n",
    "    if key_name in models_score_dict:\n",
    "        previous_best_score = models_score_dict[key_name]\n",
    "    else:\n",
    "        previous_best_score = -9999999\n",
    "\n",
    "    reg = fit_model(X, y, models_score_dict, key_name)\n",
    "\n",
    "    f = open('/home/ubuntu/oui-team/pickle_files/models_score_dict.txt', \"r\")\n",
    "    models_score_dict = f.read()\n",
    "    models_score_dict = ast.literal_eval(models_score_dict)\n",
    "    f.close()\n",
    "\n",
    "    current_best_score = models_score_dict[key_name]\n",
    "\n",
    "    if previous_best_score < current_best_score:\n",
    "        with open('/home/ubuntu/oui-team/pickle_files/' + file_name, 'wb') as handle:\n",
    "            pickle.dump(reg, handle, pickle.HIGHEST_PROTOCOL)"
   ]
  },
  {
   "cell_type": "code",
   "execution_count": null,
   "metadata": {},
   "outputs": [],
   "source": [
    "def create_models(station_array,df_db, features):\n",
    "    \"\"\"\n",
    "    Loops through each station number and day of the week for model creation.\n",
    "    :param station_array: list of all valid station numbers\n",
    "    :param df_db: dataframe of all database data to be manipulated\n",
    "    :param features: features to be used for model training\n",
    "    :return: Void. Updates pickle models.\n",
    "    \"\"\"\n",
    "    days =[\"Monday\", \"Tuesday\", \"Wednesday\", \"Thursday\", \"Friday\", \"Saturday\", \"Sunday\"]\n",
    "    for station_number in station_array:\n",
    "        for day_week in days:\n",
    "            station_day_model(station_number, day_week, df_db,features)\n",
    "\n"
   ]
  },
  {
   "cell_type": "markdown",
   "metadata": {},
   "source": [
    "Machine learning models only work well with numerical inputs. In the below function, *start_modelling*, all categorical features are converted into binary values for the model.\n",
    "We have also future proofed the model by including features that have not yet occurred in the database, so that when they do occur, the model will be able to continue to train without issue."
   ]
  },
  {
   "cell_type": "code",
   "execution_count": null,
   "metadata": {},
   "outputs": [],
   "source": [
    "def start_modelling():\n",
    "    \"\"\"\n",
    "    Initial function. First calls SQL query to generate the dataframe from the databases. Creates a list\n",
    "    with each unique station number. Converts all the categorical weather features to binary features for\n",
    "    the purpose of modelling. Creates a df filtered by the desired features to be used for modelling.\n",
    "    Makes a directory for the pickle files if it does not exist. Creates the mode best score dictionary if it does\n",
    "    not exist. Calls the function to start the modelling process.\n",
    "    :return:\n",
    "    \"\"\"\n",
    "\n",
    "    # Download latest sql info\n",
    "    df_db = sql_query_model()\n",
    "\n",
    "    # Creates an array with every unique station number\n",
    "    station_array = sorted(df_db.number.unique())\n",
    "\n",
    "    # Make categorical info into binary\n",
    "    main_weather_dummies = pd.get_dummies(df_db['main_weather'], prefix=\"main_weather\")\n",
    "\n",
    "    additional_main_weathers = ['main_weather_Thunderstorm', 'main_weather_Haze', 'main_weather_Squall',\n",
    "                                'main_weather_Smoke', 'main_weather_Dust', 'main_weather_Tornado',\n",
    "                                'main_weather_Ash']\n",
    "\n",
    "    # This is ensuring that the order in which the model was originally trained is preserved\n",
    "    # This is to allow for the reordering of data frame columns in the for loop below as new weather descriptions are\n",
    "    # added to the database history\n",
    "    categ_features = ['main_weather_Clouds', 'main_weather_Clear', 'main_weather_Rain', 'main_weather_Fog',\n",
    "                      'main_weather_Drizzle', 'main_weather_Mist', 'main_weather_Snow'] + additional_main_weathers\n",
    "    cont_features = ['hour', 'rainfall_mm', 'main_temp']\n",
    "\n",
    "    features = cont_features + categ_features\n",
    "    df_db = pd.concat([df_db, main_weather_dummies], axis=1)\n",
    "    df_db = df_db.drop('main_weather', axis=1)\n",
    "\n",
    "    for weather_descriptor in additional_main_weathers:\n",
    "        if (weather_descriptor) not in df_db.columns:\n",
    "            df_db[weather_descriptor] = 0\n",
    "\n",
    "    # define the name of the directory to be created\n",
    "    path_pickle = \"pickle_files\"\n",
    "\n",
    "    if not os.path.exists(path_pickle):\n",
    "        try:\n",
    "            os.mkdir(path_pickle)\n",
    "        except OSError:\n",
    "            print (\"Creation of the directory %s failed\" % path_pickle)\n",
    "        else:\n",
    "            print (\"Successfully created the directory %s \" % path_pickle)\n",
    "\n",
    "    path_pickle_file = '/home/ubuntu/oui-team/pickle_files/models_score_dict.txt'\n",
    "\n",
    "    if not os.path.isfile(path_pickle_file):\n",
    "        dict = {}\n",
    "        f = open(path_pickle_file, \"w\")\n",
    "        f.write(str(dict))\n",
    "        f.close()\n",
    "\n",
    "    # Make all the models\n",
    "    create_models(station_array, df_db, features)\n"
   ]
  },
  {
   "cell_type": "code",
   "execution_count": null,
   "metadata": {},
   "outputs": [],
   "source": [
    "start_modelling()"
   ]
  }
 ],
 "metadata": {
  "kernelspec": {
   "display_name": "Python 3",
   "language": "python",
   "name": "python3"
  },
  "language_info": {
   "codemirror_mode": {
    "name": "ipython",
    "version": 3
   },
   "file_extension": ".py",
   "mimetype": "text/x-python",
   "name": "python",
   "nbconvert_exporter": "python",
   "pygments_lexer": "ipython3",
   "version": "3.7.2"
  }
 },
 "nbformat": 4,
 "nbformat_minor": 2
}
